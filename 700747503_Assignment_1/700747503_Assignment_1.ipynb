{
 "cells": [
  {
   "cell_type": "code",
   "execution_count": 2,
   "id": "605559e2",
   "metadata": {},
   "outputs": [
    {
     "name": "stdout",
     "output_type": "stream",
     "text": [
      "noht\n"
     ]
    }
   ],
   "source": [
    "s=\"python\"\n",
    "s1=s[2:]\n",
    "print(s1[::-1])"
   ]
  },
  {
   "cell_type": "code",
   "execution_count": 3,
   "id": "35d5a7e6",
   "metadata": {},
   "outputs": [
    {
     "name": "stdout",
     "output_type": "stream",
     "text": [
      "4 2\n",
      "Addition of 4 and 2 is 6\n",
      "Subtraction of 4 and 2 is 2\n",
      "Multiplication of 4 and 2 is 8\n",
      "Division of 4 and 2 is 2\n",
      "Modulo Division of 4 and 2 is 0\n"
     ]
    }
   ],
   "source": [
    "a,b=map(int, input().split())\n",
    "print(\"Addition of \" + str(a) + \" and \" + str(b) + \" is \"+ str(a+b))\n",
    "print(\"Subtraction of \" + str(a) + \" and \" + str(b) + \" is \"+ str(a-b))\n",
    "print(\"Multiplication of \" + str(a) + \" and \" + str(b) + \" is \"+ str(a*b))\n",
    "print(\"Division of \" + str(a) + \" and \" + str(b) + \" is \"+ str(a//b))\n",
    "print(\"Modulo Division of \" + str(a) + \" and \" + str(b) + \" is \"+ str(a%b))"
   ]
  },
  {
   "cell_type": "code",
   "execution_count": 4,
   "id": "405d968a",
   "metadata": {},
   "outputs": [
    {
     "name": "stdout",
     "output_type": "stream",
     "text": [
      "I like python\n"
     ]
    },
    {
     "data": {
      "text/plain": [
       "'I like pythons'"
      ]
     },
     "execution_count": 4,
     "metadata": {},
     "output_type": "execute_result"
    }
   ],
   "source": [
    "txt = input()\n",
    "x = txt.replace(\"python\", \"pythons\")\n",
    "x"
   ]
  },
  {
   "cell_type": "code",
   "execution_count": 6,
   "id": "8b49cc4f",
   "metadata": {},
   "outputs": [
    {
     "name": "stdout",
     "output_type": "stream",
     "text": [
      "enter your score95\n",
      "grade A\n"
     ]
    }
   ],
   "source": [
    "x = int(input(\"enter your score\"))\n",
    "if x>=90 and x<=100:\n",
    "  print(\"grade A\")\n",
    "elif x>=80 and x<=89:\n",
    "  print(\"grade B\")\n",
    "elif x>=70 and x<=79:\n",
    "  print(\"grade C\")\n",
    "elif x>=60 and x<=69:\n",
    "  print(\"grade D\")\n",
    "elif x>=0 and x<=59:\n",
    "  print(\"grade F\")"
   ]
  },
  {
   "cell_type": "code",
   "execution_count": null,
   "id": "e6416ebe",
   "metadata": {},
   "outputs": [],
   "source": []
  }
 ],
 "metadata": {
  "kernelspec": {
   "display_name": "Python 3 (ipykernel)",
   "language": "python",
   "name": "python3"
  },
  "language_info": {
   "codemirror_mode": {
    "name": "ipython",
    "version": 3
   },
   "file_extension": ".py",
   "mimetype": "text/x-python",
   "name": "python",
   "nbconvert_exporter": "python",
   "pygments_lexer": "ipython3",
   "version": "3.11.4"
  }
 },
 "nbformat": 4,
 "nbformat_minor": 5
}
